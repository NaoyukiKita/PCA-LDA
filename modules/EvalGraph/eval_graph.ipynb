{
 "cells": [
  {
   "cell_type": "code",
   "execution_count": 1,
   "metadata": {},
   "outputs": [],
   "source": [
    "import matplotlib.pyplot as plt\n",
    "import numpy as np"
   ]
  },
  {
   "cell_type": "code",
   "execution_count": 2,
   "metadata": {},
   "outputs": [],
   "source": [
    "class EvalGraph():\n",
    "    def __init__(self):\n",
    "        self.fig, self.ax = plt.subplots(nrows=1, ncols=1)\n",
    "\n",
    "    def draw_curve(self, function, start, stop, num=2880, **kwargs):\n",
    "        X = np.linspace(start=start, stop=stop, num=num)\n",
    "        Y = np.zeros_like(X)\n",
    "\n",
    "        for index, x in enumerate(X):\n",
    "            Y[index] = function(x, **kwargs)\n",
    "        \n",
    "        max_index = np.argmax(Y)\n",
    "        max_x = X[max_index]\n",
    "        max_y = Y[max_index]\n",
    "\n",
    "        self.ax.plot(X, Y)\n",
    "\n",
    "        self.ax.scatter(max_x, max_y, color='black', marker='x')\n",
    "\n",
    "        return max_x, max_y\n",
    "    \n",
    "    def xlabel(self, xlabel):\n",
    "        self.ax.set_xlabel(xlabel)\n",
    "    \n",
    "    def ylabel(self, ylabel):\n",
    "        self.ax.set_ylabel(ylabel)\n",
    "    \n",
    "    def show(self):\n",
    "        plt.show()\n"
   ]
  },
  {
   "cell_type": "code",
   "execution_count": 3,
   "metadata": {},
   "outputs": [
    {
     "name": "stderr",
     "output_type": "stream",
     "text": [
      "[NbConvertApp] Converting notebook eval_graph.ipynb to python\n"
     ]
    },
    {
     "name": "stdout",
     "output_type": "stream",
     "text": [
      "Saved as eval_graph.py\n"
     ]
    },
    {
     "name": "stderr",
     "output_type": "stream",
     "text": [
      "[NbConvertApp] Writing 1040 bytes to eval_graph.py\n"
     ]
    }
   ],
   "source": [
    "if 'get_ipython' in globals():\n",
    "    import subprocess\n",
    "    subprocess.run(['jupyter', 'nbconvert', '--to', 'python', '*.ipynb'])\n",
    "    print('Saved as eval_graph.py')"
   ]
  }
 ],
 "metadata": {
  "kernelspec": {
   "display_name": "Python 3",
   "language": "python",
   "name": "python3"
  },
  "language_info": {
   "codemirror_mode": {
    "name": "ipython",
    "version": 3
   },
   "file_extension": ".py",
   "mimetype": "text/x-python",
   "name": "python",
   "nbconvert_exporter": "python",
   "pygments_lexer": "ipython3",
   "version": "3.9.6"
  },
  "orig_nbformat": 4
 },
 "nbformat": 4,
 "nbformat_minor": 2
}

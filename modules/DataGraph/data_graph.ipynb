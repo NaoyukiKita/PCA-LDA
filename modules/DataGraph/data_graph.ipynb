{
 "cells": [
  {
   "cell_type": "code",
   "execution_count": 1,
   "metadata": {},
   "outputs": [],
   "source": [
    "import matplotlib.pyplot as plt\n",
    "import numpy as np"
   ]
  },
  {
   "cell_type": "code",
   "execution_count": 2,
   "metadata": {},
   "outputs": [],
   "source": [
    "class DataGraph():\n",
    "    def __init__(self):\n",
    "        self.fig, self.ax = plt.subplots(nrows=1, ncols=1)\n",
    "        self.left_bound = None\n",
    "        self.right_bound = None\n",
    "        self.down_bound = None\n",
    "        self.up_bound = None\n",
    "        self.first = True\n",
    "\n",
    "        return\n",
    "    \n",
    "    def scatter(self, x, y, **kwargs):\n",
    "        self.ax.scatter(x, y, **kwargs)\n",
    "\n",
    "        self.__update_bounds(x, y)\n",
    "\n",
    "        return\n",
    "    \n",
    "    def __update_bounds(self, x, y):\n",
    "        if self.first:\n",
    "            self.left_bound = x.min() - 1\n",
    "            self.right_bound = x.max() + 1\n",
    "            self.down_bound = y.min() - 1\n",
    "            self.up_bound = y.max() + 1\n",
    "\n",
    "            self.first = False\n",
    "        else:\n",
    "            self.left_bound = min(self.left_bound, x.min() - 1)\n",
    "            self.right_bound = max(self.right_bound, x.max() + 1)\n",
    "            self.down_bound = min(self.down_bound, y.min() - 1)\n",
    "            self.up_bound = max(self.up_bound, y.max() + 1)\n",
    "        \n",
    "        return\n",
    "    \n",
    "    def __set_range(self, start, stop):\n",
    "        if start is None:\n",
    "            if self.left_bound is None:\n",
    "                assert('WARNING: start point is unknown.')\n",
    "            start = self.left_bound\n",
    "        \n",
    "        if stop is None:\n",
    "            if self.right_bound is None:\n",
    "                assert('WARNING: stop point is unknown.')\n",
    "            stop = self.right_bound\n",
    "        \n",
    "        return start, stop\n",
    "    \n",
    "    def __linear(self, X, slope, biases):\n",
    "        Y = np.zeros_like(X)\n",
    "        for index, x in enumerate(X):\n",
    "            Y[index] = slope * (x - biases[0]) + biases[1]\n",
    "        return Y\n",
    "\n",
    "    def draw_line(self, slope, biases, start=None, stop=None, num=2880, **kwargs):\n",
    "        start, stop = self.__set_range(start, stop)\n",
    "\n",
    "        X = np.linspace(start=start, stop=stop, num=num)\n",
    "        Y = self.__linear(X, slope, biases)\n",
    "\n",
    "        self.ax.plot(X, Y, **kwargs)\n",
    "\n",
    "        return X, Y\n",
    "\n",
    "    def divide_into_2_regions(self, slope, biases, start=None, stop=None, num=2880, alpha=0.1, **kwargs):\n",
    "        start, stop = self.__set_range(start, stop)\n",
    "\n",
    "        X = np.linspace(start=start, stop=stop, num=num)\n",
    "        Y = self.__linear(X, slope, biases)\n",
    "\n",
    "        self.ax.fill_between(X, Y, self.down_bound - 1, color='green', alpha=alpha)\n",
    "        self.ax.fill_between(X, Y, self.up_bound + 1, color='blue', alpha=alpha)\n",
    "\n",
    "        return X, Y\n",
    "    \n",
    "    def xlabel(self, xlabel):\n",
    "        self.ax.set_xlabel(xlabel)\n",
    "    \n",
    "    def ylabel(self, ylabel):\n",
    "        self.ax.set_ylabel(ylabel)\n",
    "        \n",
    "    def show(self):\n",
    "        plt.xlim(self.left_bound, self.right_bound)\n",
    "        plt.ylim(self.down_bound, self.up_bound)\n",
    "\n",
    "        self.ax.set_aspect('equal', adjustable='box')\n",
    "        self.fig.tight_layout()\n",
    "        plt.show()\n",
    "\n",
    "        return"
   ]
  },
  {
   "cell_type": "code",
   "execution_count": 3,
   "metadata": {},
   "outputs": [
    {
     "name": "stderr",
     "output_type": "stream",
     "text": [
      "[NbConvertApp] Converting notebook data_graph.ipynb to python\n"
     ]
    },
    {
     "name": "stdout",
     "output_type": "stream",
     "text": [
      "Saved as data_graph.py\n"
     ]
    },
    {
     "name": "stderr",
     "output_type": "stream",
     "text": [
      "[NbConvertApp] Writing 2812 bytes to data_graph.py\n"
     ]
    }
   ],
   "source": [
    "if 'get_ipython' in globals():\n",
    "    import subprocess\n",
    "    subprocess.run(['jupyter', 'nbconvert', '--to', 'python', '*.ipynb'])\n",
    "    print('Saved as data_graph.py')"
   ]
  }
 ],
 "metadata": {
  "kernelspec": {
   "display_name": "Python 3",
   "language": "python",
   "name": "python3"
  },
  "language_info": {
   "codemirror_mode": {
    "name": "ipython",
    "version": 3
   },
   "file_extension": ".py",
   "mimetype": "text/x-python",
   "name": "python",
   "nbconvert_exporter": "python",
   "pygments_lexer": "ipython3",
   "version": "3.9.6"
  },
  "orig_nbformat": 4
 },
 "nbformat": 4,
 "nbformat_minor": 2
}
